{
  "nbformat": 4,
  "nbformat_minor": 0,
  "metadata": {
    "colab": {
      "provenance": []
    },
    "kernelspec": {
      "name": "python3",
      "display_name": "Python 3"
    },
    "language_info": {
      "name": "python"
    }
  },
  "cells": [
    {
      "cell_type": "markdown",
      "source": [
        "## Resolução de Problemas Com Grafos\n",
        "## Semana 5 - Busca em Profundidade\n",
        "# Resolução de Problemas com Grafos\n",
        "\n",
        "## 1) Transformação de DFS iterativo para BFS\n",
        "\n",
        "Para converter o DFS iterativo em BFS, as alterações necessárias são:\n",
        "\n",
        "\n",
        "```\n",
        "from collections import deque\n",
        "\n",
        "def bfs(graph, source_node):\n",
        "    visited = []\n",
        "    queue = deque()  # FILA E NAO PILHA\n",
        "    \n",
        "    queue.append(source_node)\n",
        "    while queue:\n",
        "        element = queue.popleft()  # TIRA DO INICIO (FIFO)\n",
        "        \n",
        "        if element not in visited:\n",
        "            visited.append(element)\n",
        "            \n",
        "            for adj in sorted(graph[element]):  # ORDER NORMAL\n",
        "                if adj not in visited:\n",
        "                    queue.append(adj)\n",
        "    return visited\n",
        "```\n",
        "\n",
        "\n",
        "\n",
        "**BFS:**\n",
        "$$\n",
        "\\boxed{a \\to b \\to c \\to d \\to e \\to f \\to g \\to h \\to i \\to j \\to k \\to l \\to m}\n",
        "$$\n",
        "\n",
        "### b) Estrutura para DFS\n",
        "\n",
        "$$\n",
        "\\boxed{\\textbf{Pilha (Stack)} - LIFO (Last-In-First-Out)}\n",
        "$$\n",
        "\n",
        "### c) BFS de a para l (ordem lexicográfica)\n",
        "\n",
        "**Sequência esperada:**\n",
        "$$\n",
        "\\boxed{a \\to b \\to c \\to d \\to e \\to f \\to g \\to h \\to i \\to j \\to k \\to l}\n",
        "$$\n",
        "\n",
        "**BFS:**\n",
        "$$\n",
        "\\boxed{a \\to b \\to c \\to d \\to e \\to f \\to g \\to h \\to i \\to j \\to k \\to l \\to m}\n",
        "$$\n"
      ],
      "metadata": {
        "id": "xptb2VnqQO4s"
      }
    }
  ]
}